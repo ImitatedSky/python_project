{
  "nbformat": 4,
  "nbformat_minor": 0,
  "metadata": {
    "colab": {
      "provenance": [],
      "authorship_tag": "ABX9TyPK+H1JVmWpkFrFptgEYXoZ",
      "include_colab_link": true
    },
    "kernelspec": {
      "name": "python3",
      "display_name": "Python 3"
    },
    "language_info": {
      "name": "python"
    }
  },
  "cells": [
    {
      "cell_type": "markdown",
      "metadata": {
        "id": "view-in-github",
        "colab_type": "text"
      },
      "source": [
        "<a href=\"https://colab.research.google.com/github/ImitatedSky/python_project/blob/main/py_xls.ipynb\" target=\"_parent\"><img src=\"https://colab.research.google.com/assets/colab-badge.svg\" alt=\"Open In Colab\"/></a>"
      ]
    },
    {
      "cell_type": "code",
      "execution_count": null,
      "metadata": {
        "id": "cTv0WcoGA22u"
      },
      "outputs": [],
      "source": [
        "# open excel file and read data\n",
        "# pip install pandas\n",
        "# pip install xlrd\n",
        "# pip install openpyxl\n",
        "\n",
        "import tkinter as tk\n",
        "from tkinter import filedialog\n",
        "import pandas as pd\n",
        "import json\n",
        "\n",
        "file_path = filedialog.askopenfilename(filetypes=[(\"xls files\", \"*.xlsx;*.xls;*.csv\")])\n",
        "\n",
        "# 讀取所有工作表\n",
        "x_data = pd.read_excel(file_path, sheet_name=None)\n",
        "\n",
        "# print(x_data)\n",
        "\n",
        "\n",
        "\n",
        "# 迭帶處理每個工作表\n",
        "# for sheet_name, sheet_data in x_data.items():\n",
        "#     # 在這裡可以對每個工作表的資料進行處理\n",
        "#     print(f\"工作表名稱：{sheet_name}\")\n",
        "#     print(sheet_data)\n",
        "\n",
        "# 讀取指定工作表\n",
        "\n",
        "# print(x_data) # 這樣就可以讀取到指定的工作表了\n",
        "print(type(x_data)) # 這樣就可以讀取到指定的工作表了\n",
        "\n",
        "print(x_data['1級'][\"part_of_speech\"])\n",
        "'''\n",
        "0            (adj.4)能;有能力的\n",
        "1           (adj.5)上文的,前述的\n",
        "2       (adj.5)成年的;成熟的;色情的\n",
        "3                (adj.6)害怕\n",
        "4            (adj.3)所有的;全部\n",
        "\n",
        "1661     (n.3)肯定的回答,同意;贊成票\n",
        "1662            (n.9)昨天;往昔\n",
        "1663            (n.5)青年們;雛\n",
        "1664                (n.4)零\n",
        "1665              (n.3)動物園\n",
        "\n",
        "\n",
        "\n",
        "->\n",
        "0            adj\n",
        "1            adj\n",
        "\n",
        "\n",
        "1663            n\n",
        "1664                n\n",
        "1665\n",
        "\n",
        "'''\n",
        "\n",
        "print(x_data['1級'][\"part_of_speech\"].str.split(\".\").str[0])\n",
        "print(x_data['1級'][\"part_of_speech\"].str.split(\".\").str[0].str.strip(\"()\"))\n",
        "\n",
        "# save to x_data['1級'][\"part_of_speech\"]\n",
        "\n",
        "# x_data['1級'][\"part_of_speech\"] = x_data['1級'][\"part_of_speech\"].str.split(\".\").str[0].str.strip(\"()\")\n",
        "print(x_data['1級'])\n",
        "\n",
        "\n",
        "# do all sheet\n",
        "for sheet_name, sheet_data in x_data.items():\n",
        "    # 在這裡可以對每個工作表的資料進行處理\n",
        "    print(f\"工作表名稱：{sheet_name}\")\n",
        "    print(sheet_data)\n",
        "    sheet_data[\"part_of_speech\"] = sheet_data[\"part_of_speech\"].str.split(\".\").str[0].str.strip(\"()\")\n",
        "    print(sheet_data)\n",
        "    x_data[sheet_name] = sheet_data\n",
        "    print(x_data[sheet_name])\n",
        "\n",
        "# save to xls\n",
        "writer = pd.ExcelWriter('output.xlsx')\n",
        "for sheet_name, sheet_data in x_data.items():\n",
        "    sheet_data.to_excel(writer, sheet_name=sheet_name, index=False)\n",
        "writer._save()\n",
        "\n",
        "\n",
        "\n",
        "\n",
        "\n"
      ]
    }
  ]
}